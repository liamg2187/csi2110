{
 "cells": [
  {
   "cell_type": "markdown",
   "metadata": {},
   "source": [
    "# Graphs\n",
    "## Properties\n",
    "- n = number of vertices\n",
    "- m = number of edges\n",
    "- deg(v) = degree of vertex v\n",
    "\n",
    "- Property 1\n",
    "    - &#8721;<sub>v</sub>deg(v) = 2m\n",
    "    - Proof: Each endpoint is counted twice.\n",
    "- Property 2\n",
    "    - In an undirected graph with no self-loops and no multiple edges, m <= n*(n-1)/2.\n",
    "    - Proof: Each vertex has degree at most (n - 1)"
   ]
  }
 ],
 "metadata": {
  "kernelspec": {
   "display_name": "Java (Rapaio Jupyter)",
   "language": "java",
   "name": "rapaio-jupyter-kernel"
  },
  "language_info": {
   "name": "java"
  }
 },
 "nbformat": 4,
 "nbformat_minor": 2
}
