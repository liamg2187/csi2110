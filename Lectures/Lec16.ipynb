{
 "cells": [
  {
   "cell_type": "markdown",
   "metadata": {},
   "source": [
    "# Graphs\n",
    "## Properties\n",
    "- n = number of vertices\n",
    "- m = number of edges\n",
    "- deg(v) = degree of vertex v\n",
    "\n",
    "- Property 1\n",
    "    - &#8721;<sub>v</sub>deg(v) = 2m\n",
    "    - Proof: Each endpoint is counted twice.\n",
    "- Property 2\n",
    "    - In an undirected graph with no self-loops and no multiple edges, m <= n*(n-1)/2.\n",
    "    - Proof: Each vertex has degree at most (n - 1)"
   ]
  },
  {
   "cell_type": "markdown",
   "metadata": {},
   "source": [
    "## Main Methods of the Graph ADT\n",
    "- Vertices and edges:\n",
    "    - Are positions.\n",
    "    - Store elements.\n",
    "- Accessor methods:\n",
    "    - `aVertex()`\n",
    "    - `incidentEdges(v)`\n",
    "    - `endVertices(e)`\n",
    "    - `isDirected(e)`\n",
    "    - `origin(e)`\n",
    "    - `destination(e)`\n",
    "    - `opposite(v, e)`\n",
    "    - `areAdjacent(v, w)`\n",
    "- Update methods:\n",
    "    - `insertVertex(o)`\n",
    "    - `insertEdge(v, w, o)`\n",
    "    - `insertDirectedEdge(v, w, o)`\n",
    "    - `removeVertex(v)`\n",
    "    - `removeEdge(e)`\n",
    "- Generic methods\n",
    "    - `numVertices()`\n",
    "    - `numEdges()`\n",
    "    - `vertices()`\n",
    "    - `edges()`"
   ]
  },
  {
   "cell_type": "markdown",
   "metadata": {},
   "source": [
    "## Representations\n",
    "- Edge List\n",
    "- Adjacency List\n",
    "- Adjacency Matrix\n",
    "- Incidence Matrix\n",
    "\n",
    "## Edge List Structure\n",
    "\n",
    "![Edge List Example](./Resources/EdgeListExample.png)\n",
    "\n",
    "- Vertex object:\n",
    "    - Element\n",
    "    - Reference to position in vertex sequence\n",
    "- Edge object:\n",
    "    - Element\n",
    "    - Origin vertex object\n",
    "    - Destination vertex object\n",
    "    - Reference to position in edge sequence\n",
    "- Vertex sequence:\n",
    "    - Sequence of vertex objects\n",
    "- Edge sequence:\n",
    "    - Sequence of edge objects\n",
    "\n",
    "![Edge List Memory Diagram](./Resources/EdgeListStructure.png)\n",
    "\n",
    "| Operation | Time Complexity |\n",
    "| ----- | ----- |\n",
    "| `incidentEdges(v)` | O(m) |\n",
    "| `areAdjacent(v, w)` | O(m) |\n",
    "\n",
    "- Space: n + m"
   ]
  },
  {
   "cell_type": "markdown",
   "metadata": {},
   "source": [
    "## Adjaceny List Structure\n",
    "\n",
    "![Adjacency List Example](./Resources/AdjacencyListExample.png)\n",
    "\n",
    "- Edge list structure\n",
    "- Incidence sequence for each vertex\n",
    "    - Sequence of references to edge objects of incident edges.\n",
    "- Augmented edge objects\n",
    "    - References to associated positions in incidence sequences of end vertices.\n",
    "\n",
    "![Adjacency List Memory Diagram](./Resources/AdjacencyListStructure.png)\n",
    "\n",
    "| Operation | Time Complexity |\n",
    "| ----- | ----- |\n",
    "| `incidentEdges(v)` | O(deg(v)) |\n",
    "| `areAdjacent(v, w)` | O(min(deg(v), deg(w))) |\n",
    "\n",
    "- Space: n + m"
   ]
  },
  {
   "cell_type": "markdown",
   "metadata": {},
   "source": [
    "## Adjacency Matrix Structure\n",
    "\n",
    "![Adjacency Matrix Example](./Resources/AdjacencyMatrixExample.png)\n",
    "\n",
    "- Wastes a lot of space if the matrix is sparse.\n",
    "\n",
    "- Edge list structure\n",
    "- Augmented vertex objects\n",
    "    - Integer key (index) associated with vertex.\n",
    "- 2D array adjacency array\n",
    "    - Reference to edge object for adjacent vertices.\n",
    "    - Null for nonadjacent vertices.\n",
    "\n",
    "![Adjacency Matrix Memory Diagram](./Resources/AdjacencyMatrixStructure.png)\n",
    "\n",
    "| Operation | Time Complexity |\n",
    "| ----- | ----- |\n",
    "| `incidentEdges(v)` | O(n) |\n",
    "| `areAdjacent(v, w)` | O(1) |\n",
    "\n",
    "Space: n<sup>2</sup>"
   ]
  },
  {
   "cell_type": "markdown",
   "metadata": {},
   "source": [
    "## Incidence Matrix Structure\n",
    "\n",
    "![Incidence Matrix Example](./Resources/IncidenceMatrixExample.png)\n",
    "\n",
    "- Space: n x m"
   ]
  },
  {
   "cell_type": "markdown",
   "metadata": {},
   "source": [
    "## Performance\n",
    "\n",
    " | Operations | Edge List | Adjacency List | Adjacency Matrix |\n",
    " | ----- | ----- | ----- | ----- |\n",
    " | Space | n + m | n + m | n<sup>2</sup> |\n",
    " | `incidentEdges(v)` | m | deg(v) | n |\n",
    " | `areAdjacent(v, w)` | m | min(deg(v), deg(w)) | 1 |\n",
    " | `insertVertex(o)` | 1 | 1 | n<sup>2</sup> |\n",
    " | `insertEdge(v, w, o)` | 1 | 1 | 1 |\n",
    " | `removeVertex(v)` | m | deg(v) | n<sup>2</sup> |\n",
    " | `removeEdge(e)` | 1 | 1 | 1 |"
   ]
  },
  {
   "cell_type": "markdown",
   "metadata": {},
   "source": [
    "## Special Graphs\n",
    "- Regular graphs:\n",
    "    - All vertices have the same degree.\n",
    "- Bipartite graphs:\n",
    "    - You can divide the vertices into groups, where all vertices in one group are connected to a vertice in a different group.\n",
    "    - Cannot have an odd cycle.\n",
    "- Planar graphs:\n",
    "    - Graphs that can be drawn on a plane without crossing edges."
   ]
  },
  {
   "cell_type": "markdown",
   "metadata": {},
   "source": [
    "- Connected, non-directed graphs:\n",
    "    - n - 1 <= m <= n(n - 1)/2\n",
    "    - 1 <= deg(i) <= n - 1\n",
    "\n",
    "- Connected, directed graphs:\n",
    "    - n - 1 <= m <= n(n - 1)\n",
    "    - 1 <= deg(i) <= n - 1"
   ]
  }
 ],
 "metadata": {
  "kernelspec": {
   "display_name": "Java (Rapaio Jupyter)",
   "language": "java",
   "name": "rapaio-jupyter-kernel"
  },
  "language_info": {
   "name": "java"
  }
 },
 "nbformat": 4,
 "nbformat_minor": 2
}
