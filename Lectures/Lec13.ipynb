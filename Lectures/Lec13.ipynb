{
 "cells": [
  {
   "cell_type": "markdown",
   "metadata": {},
   "source": [
    "# (2, 4) Trees\n",
    "## Multi-Way Search Tree\n",
    "- A multi-way search tree is an ordered tree such that\n",
    "    - Each internal node has at least two children and stores d-1 key-element items (k<sub>i</sub>, o<sub>i</sub>), where d is the number of children.\n",
    "    - For a node with children v<sub>1</sub>, v<sub>2</sub>, ..., v<sub>d</sub>, storing keys k<sub>1</sub>, k<sub>2</sub>, ..., k<sub>d-1</sub>\n",
    "        - keys in the subtree of v<sub>1</sub> are less that k<sub>1</sub>.\n",
    "        - keys in the subtree of v<sub>i</sub> are between k<sub>i-1</sub> and k<sub>i</sub>.\n",
    "        - keys in the subtree of v<sub>d</sub> are greater that k<sub>d-1</sub>.\n",
    "    - The leaves store no items and serve as placeholders.\n",
    "\n",
    "## Multi-Way Inorder Traversal\n",
    "- We can extend the notation of inorder traversal from binary trees to multi-way search trees.\n",
    "- Namely, we visit item (k<sub>i</sub>, o<sub>i</sub>) of node v between the recursive traversals of the subtrees of v rooted at children v<sub>i</sub> and v<sub>i+1</sub>.\n",
    "- An inorder traversal of a multi-way search tree visits the keys in increasing order.\n",
    "\n",
    "## Multi-Way Searching\n",
    "- Similar to search in a binary search tree.\n",
    "- At each internal node with children v<sub>1</sub>, v<sub>2</sub>, ..., v<sub>d</sub>, and keys k<sub>1</sub>, k<sub>2</sub>, ..., v<sub>d-1</sub>\n",
    "    - k = k<sub>i</sub> (i = 1, ..., d-1): the search terminates successfully.\n",
    "    - k < k<sub>1</sub>: we continue the search in child v<sub>1</sub>.\n",
    "    - k<sub>i-1</sub> < k < k<sub>i</sub> (i = 2, ..., d-1): we continue the search in child v<sub>i</sub>.\n",
    "    - k > k<sub>d-1</sub>: we continue the search in child v<sub>d</sub>.\n",
    "- Reaching an external node terminates the search unsuccessfully.\n",
    "- Example: search for 30\n",
    "\n",
    "![Example Multi-Way Search Tree](./Resources/ExampleMultiWaySearchTree.png)\n",
    "\n",
    "## (2, 4) Tree\n",
    "- A (2, 4) tree (also called 2-4 tree or 2-3-4 tree) is a multi-way search with the following properties:\n",
    "    - Node-Size Property: every internal node has at most four children.\n",
    "    - Depth Property: all the external nodes have the same depth.\n",
    "- Depending on the number of children, an internal node of a (2, 4) tree is called a 2-node, 3-node, or 4-node.\n",
    "\n",
    "![Example (2, 4) Tree](./Resources/Example24Tree.png)\n",
    "\n",
    "### Height of a (2, 4) Tree\n",
    "- **Theorem**: A (2, 4) tree storing n items has height O(logn).\n",
    "\n",
    "**Proof**:\n",
    "- Let h be the height of a (2, 4) tree with n items.\n",
    "- Since there are at least 2<sup>i</sup> items at depth i = 0, ..., h - 1, and no items at depth h, we have\n",
    "\n",
    "n >= 1 + 2 + 4 + ... + 2<sup>h-1</sup> = 2<sup>h</sup> - 1\n",
    "\n",
    "- Thus, h <= log(n + 1)\n",
    "- Searching in a (2, 4) tree with n items takes O(logn) time.\n",
    "- Min # of items n: when all internal nodes 1 key and 2 children, n = 2<sup>h+1</sup>-1, h = O(log<sub>2</sub>n). \"Perfect\" binary tree.\n",
    "- Max # of items n: when all internal nodes have 3 keys and 4 children, n = (4<sup>h+1</sup>-1)/3, h = O(log<sub>4</sub>n)\n",
    "- (1/2)*log<sub>2</sub>(3n+1) <= h <= log<sub>2</sub>(n+1)"
   ]
  },
  {
   "cell_type": "markdown",
   "metadata": {},
   "source": [
    "### Insertion\n",
    "- We insert a new item (k, o) at the parent v of the leaf reached by searching for k.\n",
    "    - We preserve the depth property but\n",
    "    - We may cause an overflow (i.e. node v may become a 5-node)\n",
    "\n",
    "### Overflow and Split\n",
    "- We handle an overflow at a 5-node v with a split operation:\n",
    "    - let v<sub>1</sub>, ..., v<sub>5</sub> be the children of v and k<sub>1</sub>, ..., k<sub>4</sub> be the keys of v.\n",
    "    - node v is replaced by nodes v' and v''\n",
    "        - v' is a 3-node with keys k<sub>1</sub>, k<sub>2</sub> and children v<sub>1</sub>, v<sub>2</sub>, v<sub>3</sub>.\n",
    "        - v'' is a 2-node with key k<sub>4</sub> and children v<sub>4</sub>, v<sub>5</sub>.\n",
    "    - key k<sub>3</sub> is inserted into the parent u of v (a new root may be created).\n",
    "    - The overflow may propagate to the parent of node u.\n",
    "\n",
    "![(2, 4) Tree Insertion Example](./Resources/24InsertionExample.png)\n",
    "\n",
    "### Analysis of Insertion"
   ]
  },
  {
   "cell_type": "raw",
   "metadata": {
    "vscode": {
     "languageId": "raw"
    }
   },
   "source": [
    "Algorithm insertItem(k, o)\n",
    "\n",
    "1. We search for key k to locate the insertion node v\n",
    "2. We add the new item (k, o) at node v\n",
    "3. while overflow(v)\n",
    "    if isRoot(v)\n",
    "        create a new empty root above v\n",
    "    v <- split(v)"
   ]
  },
  {
   "cell_type": "markdown",
   "metadata": {},
   "source": [
    "- Let T be a (2, 4) tree with n items.\n",
    "    - Tree T has O(logn) height.\n",
    "    - Step 1 takes O(logn) time because we visit O(logn) nodes.\n",
    "    - Step 2 takes O(1) time.\n",
    "    - Step 3 takes O(logn) time because each split takes O(1) time and we perform O(logn) splits.\n",
    "- Thus, an insertion in a (2, 4) tree takes O(logn) time."
   ]
  },
  {
   "cell_type": "markdown",
   "metadata": {},
   "source": [
    "### Deletion\n",
    "- We reduce deletion of an item to the case where the item is at the node with leaf children.\n",
    "- Otherwise, we replace the item with its inorder successor (or, equivalently, with is inorder predecessor) and delete the latter item.\n",
    "\n",
    "### Underflow and Fusion\n",
    "- Deleting an item from a node v may cause an underflow, where node v becomes a 1-node with one child and no keys.\n",
    "- To handle an underflow at node v with parent u, we consider two cases.\n",
    "- **Case 1**: the adjacent sibling of v are 2-nodes (all adjacent siblings)\n",
    "    - Fusion operation: we merge v with an adjacent sibling w and move an item from u to the merged node v'.\n",
    "    - After a fusion, the underflow may propagate to the parent u.\n",
    "\n",
    "![(2, 4) Tree Deletion Case 1 Example](./Resources/24DeletionCase1.png)\n",
    "\n",
    "- **Case 2**: an adjacent of sibling w of v is a 3-node or a 4-node (at least one adjacent sibling).\n",
    "    - Transfer operation:\n",
    "        1. We move a child of w to v.\n",
    "        2. We move an item from u to v.\n",
    "        3. We move an item from w to u.\n",
    "    - After a transfer, no underflow occurs.\n",
    "\n",
    "![(2, 4) Tree Deletion Case 2 Example](./Resources/24DeletionCase2.png)\n",
    "\n",
    "### Analysis of Deletion\n",
    "- Let T be a (2, 4) tree with n items.\n",
    "    - Tree T has O(logn) height.\n",
    "- In a deletion operation\n",
    "    - We visit O(logn) nodes to locate the node from which to delete the item.\n",
    "    - We handle an underflow with a series of O(logn) fusions, followed by at most one transfer.\n",
    "    - Each fusion and transfer takes O(1) time.\n",
    "- Thus, deleting an item from a (2, 4) tree takes O(logn) time."
   ]
  }
 ],
 "metadata": {
  "kernelspec": {
   "display_name": "Java (Rapaio Jupyter)",
   "language": "java",
   "name": "rapaio-jupyter-kernel"
  },
  "language_info": {
   "name": "java"
  }
 },
 "nbformat": 4,
 "nbformat_minor": 2
}
