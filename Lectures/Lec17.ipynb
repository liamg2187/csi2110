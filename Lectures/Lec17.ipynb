{
 "cells": [
  {
   "cell_type": "markdown",
   "metadata": {},
   "source": [
    "# Graph Traversals\n",
    "## Subgraphs\n",
    "- A subgraph S of a graph G is a graph such that\n",
    "    - The vertices of S are a sebset of the vertices of G.\n",
    "    - The edges of S are a subset of the edges of G.\n",
    "- A spanning subgraph of G is a subgraph that contains all the vertices of G.\n",
    "\n",
    "## Connectivity\n",
    "- A graph is connected if there is a path between every pair of vertices.\n",
    "- A connected component of a graph G is a maximal connected subgraph of G.\n",
    "\n",
    "## Trees and Forests\n",
    "- A tree is an undirected graph T such that\n",
    "    - T is connected.\n",
    "    - T has no cycles.\n",
    "- A forest is an undirected graph without cycles (a collection of trees).\n",
    "- The connected components of a forest are trees.\n",
    "\n",
    "## Spanning Trees and Forests\n",
    "- A spanning tree of a connected graph is a spanning subgraph that is a tree.\n",
    "- A spanning tree is not unique unless the graph is a tree.\n",
    "- Spanning trees have applications to the design of communication networks.\n",
    "- A spanning forest of a graph is a spanning subgraph that is a forest.\n",
    "\n",
    "## Graph Traversals\n",
    "- A traversal of a graph G:\n",
    "    - Visits all the vertices and edges of G.\n",
    "    - Determines whether G is connected.\n",
    "    - Computes the connected components of G.\n",
    "    - Computes a spanning forest of G.\n",
    "    - Build a spanning tree in a connected graph."
   ]
  },
  {
   "cell_type": "markdown",
   "metadata": {},
   "source": [
    "## Depth-First Search\n",
    "- Depth-First Search is a graph traversal technique that:\n",
    "    - On a graph with n vertices and m edges takes O(n + m) time (which is O(m)).\n",
    "    - Can be further extended to solve other graph problems\n",
    "        - Find and report a path between two given vertices.\n",
    "        - Find a cycle in the graph.\n",
    "\n",
    "- **The idea**:\n",
    "    Starting at an arbitrary vertex, follow along a simple path until you get to a vertex which has no unvisited adjacent vertices.\n",
    "    - Then start tracing back up the path, one vertex at a time, to find a vertex with unvisited adjacent vertices.\n",
    "\n",
    "## DFS Algorithm with a Stack\n",
    "## Complexity\n",
    "- Elementary operations: pop, push, and visit.\n",
    "- Number of PUSH: &#8721;<sub>v&#8712;V</sub>d(v) = 2m\n",
    "- Number of POP: &#8721;<sub>v&#8712;V</sub>d(v) = 2m\n",
    "- Number of visits: O(n + m) = O(m)"
   ]
  },
  {
   "cell_type": "markdown",
   "metadata": {},
   "source": [
    "## DFS Algorithm - Recursive"
   ]
  },
  {
   "cell_type": "raw",
   "metadata": {
    "vscode": {
     "languageId": "raw"
    }
   },
   "source": [
    "DFS(v)\n",
    "Mark v visited\n",
    "For every adjacent vertex w\n",
    "    if w not visited\n",
    "        visit w\n",
    "        DFS(w)"
   ]
  },
  {
   "cell_type": "raw",
   "metadata": {
    "vscode": {
     "languageId": "raw"
    }
   },
   "source": [
    "Algorithm DFS(G)\n",
    "    Input graph G\n",
    "    Output labeling of the edges of F as discovery edges and back edges\n",
    "\n",
    "    For all vertices in G\n",
    "        setLabel(u, UNEXPLORED)\n",
    "    for all edges in G\n",
    "        setLabel(e, UNEXPLORED)\n",
    "    for all vertices in G\n",
    "        if getLabel(v) = UNEXPLORED\n",
    "            DFS(G, v)\n",
    "\n",
    "Algorithm DFS(G, v)\n",
    "    Input graph G and a start vertex v of G\n",
    "    Output labeling of the edges of G in the connected \n",
    "    component of v as discovery edges and back edges\n",
    "\n",
    "    setLabel(v, VISITED)\n",
    "\n",
    "    for all incident edges of v (e)\n",
    "        if getLabel(e) = UNEXPLORED\n",
    "        w <- opposite(v, e)\n",
    "        if getLabel(w) = UNEXPLORED\n",
    "            setLabel(e, DISCOVERY)\n",
    "            DFS(G, w)\n",
    "        else\n",
    "            setLabel(e, BACK)"
   ]
  },
  {
   "cell_type": "markdown",
   "metadata": {},
   "source": [
    "![Depth-First Search Example](./Resources/DFSExample.png)"
   ]
  },
  {
   "cell_type": "markdown",
   "metadata": {},
   "source": [
    "## Properties of DFS\n",
    "1. DFS(G, v) visits all the vertices and edges in the connected component of v.\n",
    "2. The discovery edges labeled by DFS(G, v) form a *spanning tree* of the connected cocmponent of v.\n",
    "\n",
    "## Analysis of DFS and Labeling\n",
    "- Setting/getting a vertex/edge label takes O(1) time.\n",
    "- Each vertex is labeled twice (2m):\n",
    "    - Once as UNEXPLORED.\n",
    "    - Once as VISITED.\n",
    "- Each edge is labeled twice (2n):\n",
    "    - Once as UNEXPLORED.\n",
    "    - Once as DISCOVERY or BACK.\n",
    "- Method incidentEdges is called once for each vertex.\n",
    "    - &#8721;<sub>v&#8712;V</sub>d(v) = 2m (if the graph is implemented with adjacency list).\n",
    "- DFS runs in O(n + m) time provided the graph is represented by the adjacency list structure.\n",
    "- If the graph is connected (m >= n - 1) then O(n + m) = O(m)\n",
    "\n",
    "- Complexity of DFS is O(n + m)\n",
    "- Worst case: m = O(<sup>2</sup>)\n",
    "- With adjacency matrix, DFS is always O(n<sup>2</sup>)"
   ]
  },
  {
   "cell_type": "markdown",
   "metadata": {},
   "source": [
    "## Path Finding\n",
    "- We can specialize the DFS algorithm to find a path between two given vertices u and z using the template method pattern.\n",
    "- We call DFS(G, u) with u as the start vertex.\n",
    "- We use a stack S to keep track of the path between the start vertex and the current vertex.\n",
    "- As soon as destination vertex z is encountered, we return the path as the contents of the stack."
   ]
  },
  {
   "cell_type": "raw",
   "metadata": {
    "vscode": {
     "languageId": "raw"
    }
   },
   "source": [
    "Algorithm pathDFS(G, v, z)\n",
    "    setLabel(v, VISITED)\n",
    "    S.push(v)\n",
    "    if v = z\n",
    "        return S.elements()\n",
    "    for all incidentEdges e in v\n",
    "        if getLabel(e) = UNEXPLORED\n",
    "            w <- opposite(v, e)\n",
    "            if getLabel(w) = UNEXPLORED\n",
    "                setLabel(e, DISCOVERY)\n",
    "                S.push(e)\n",
    "                pathDFS(G, w, z)\n",
    "                S.pop()\n",
    "            else\n",
    "                setLabel(e, BACK)\n",
    "    S.pop()"
   ]
  },
  {
   "cell_type": "markdown",
   "metadata": {},
   "source": [
    "## Cycle Finding\n",
    "- We can specialize the DFS algorithm to find a simple cycle using the template method pattern.\n",
    "- We use a stack S to keep track of the path between the start vertex and the current vertex.\n",
    "- As soon as a back edge (v, w) is encountered, we return the cycle as the portion of the stack from the top to vertex w."
   ]
  },
  {
   "cell_type": "raw",
   "metadata": {
    "vscode": {
     "languageId": "raw"
    }
   },
   "source": [
    "Algorithm cycleDFS(G, v)\n",
    "    setLabel(v, VISITED)\n",
    "    S.push(v)\n",
    "    for all incidentEdges e in v\n",
    "        if getLabel(e) = UNEXPLORED\n",
    "            w <- opposite(v, e)\n",
    "            S.push(e)\n",
    "            if getLabel(w) = UNEXPLORED\n",
    "                setLabel(e, DISCOVERY)\n",
    "                cycleDFS(G, w)\n",
    "                S.pop()\n",
    "            else\n",
    "                T <- new empty stack\n",
    "                repeat\n",
    "                    o <- S.pop()\n",
    "                    T.push(o)\n",
    "                until o = w\n",
    "                return T.elements()\n",
    "    S.pop()"
   ]
  }
 ],
 "metadata": {
  "kernelspec": {
   "display_name": "Java (Rapaio Jupyter)",
   "language": "java",
   "name": "rapaio-jupyter-kernel"
  },
  "language_info": {
   "name": "java"
  }
 },
 "nbformat": 4,
 "nbformat_minor": 2
}
