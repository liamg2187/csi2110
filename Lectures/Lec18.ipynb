{
 "cells": [
  {
   "cell_type": "markdown",
   "metadata": {},
   "source": [
    "## Breadth-First Search\n",
    "- Breadth-First Search (BFS) is a graph traversal technique that:\n",
    "    - On a graph with n vertices and m edges, takes O(n + m) time.\n",
    "    - Can be further extended to solve other graph problems.\n",
    "        - Find and report a path with the minimum number of edges between two given vertices.\n",
    "        - Find a simple cycle, if there is one.\n",
    "- **The idea**:\n",
    "    - Visit a vertex and then visit all unvisited vertices that are adjacent to it before visiting a vertex which is 2 away from it.\n",
    "\n",
    "![Breadth-First Search Example](./Resources/BFSExample.png)"
   ]
  },
  {
   "cell_type": "raw",
   "metadata": {},
   "source": [
    "Algorithm BFS(G)\n",
    "    Input graph G\n",
    "    Output labeling of the edges and \n",
    "    partition of the vertices of G\n",
    "\n",
    "    for all vertices u in G\n",
    "        setLabel(u, UNEXPLORED)\n",
    "    for all edges e in G\n",
    "        setLabel(e, UNEXPLORED)\n",
    "    for all verices v in G\n",
    "        if getLabel(v) = UNEXPLORED\n",
    "            BFG(G, v)\n",
    "\n",
    "Algorithm BFS(G, s)\n",
    "    L0 <- new empty sequence\n",
    "    L0.insertLast(s)\n",
    "    setLabel(s, VISITED)\n",
    "    i <- 0\n",
    "    while !Li.isEmpty()\n",
    "        Li+1 <- new empty sequence\n",
    "        for all elements v in Li\n",
    "            for all edges e in G\n",
    "                if getLabel(e) = UNEXPLORED\n",
    "                    w <- opposite(v, e)\n",
    "                    if getLabel(w) = UNEXPLORED\n",
    "                    setLabel(e, DISCOVERY)\n",
    "                    setLabel(w, VISITED)\n",
    "                    Li+1.insertLast(w)\n",
    "                else\n",
    "                    setLabel(e, CROSS)\n",
    "        i <- i + 1"
   ]
  },
  {
   "cell_type": "markdown",
   "metadata": {},
   "source": [
    "### Properties\n",
    "- Notation: G<sub>s</sub>: connected component of s\n",
    "- Property 1: BFS(G, s) visits all the vertices and edges of G<sub>s</sub>.\n",
    "- Property 2: the discovery edges labeled by BFS(G, s) form a spanning tree T<sub>s</sub> of G<sub>s</sub>.\n",
    "- Property 3: for each vertex v in L<sub>i</sub>,\n",
    "    - The path of T<sub>s</sub> from s to v has i edges.\n",
    "    - Every path from s to v in G<sub>s</sub> has at least i edges."
   ]
  },
  {
   "cell_type": "markdown",
   "metadata": {},
   "source": [
    "### Analysis\n",
    "- Setting/getting a vertex/edge label takes O(1) time.\n",
    "- Each vertex is labeled twice:\n",
    "    - once as UNEXPLORED\n",
    "    - once as VISITED\n",
    "- Each edge is labeled twice\n",
    "    - once as UNEXPLORED\n",
    "    - once as DISCOVERY or CROSS\n",
    "- Each vertex is inserted once into a sequence L<sub>i</sub>.\n",
    "- Method incidentEdges is called once for each vertex.\n",
    "- BFS runs in O(n + m) time **provided the graph is represented by the adjacency list structure**."
   ]
  },
  {
   "cell_type": "markdown",
   "metadata": {},
   "source": [
    "## DFS vs. BFS\n",
    "\n",
    "| Applications | DFS | BFS |\n",
    "| ----- | ----- | ----- |\n",
    "| Spanning forest, connected components, paths, cycles | &#10004; | &#10004; |\n",
    "| Shortest paths | &#10006; | &#10004; |\n",
    "| Biconnected components | &#10004; | &#10006; |"
   ]
  },
  {
   "cell_type": "markdown",
   "metadata": {},
   "source": [
    "- Back edge (v, w) (DFS)\n",
    "    - w is an ancestor of v in the tree of discovery edges.\n",
    "- Cross edge (v, w) (BFS)\n",
    "    - w is in the same level as v or in the next level in the tree of discovery edges."
   ]
  },
  {
   "cell_type": "markdown",
   "metadata": {},
   "source": [
    "# Shortest Path\n",
    "## Weighted Graphs\n",
    "- In a weighted graph, each edge has an associated numerical value, called the weight of the edge.\n",
    "- Edge weights may represent distances, costs, etc.\n",
    "\n",
    "## Shortest Path Problem\n",
    "- Given a weighted graph and two vertices u and v, we want to find a path of minimum total weight between u and v.\n",
    "\n",
    "## Shortest Path Properties\n",
    "- Property 1: a subpath of a shortest path is itself a shortest path.\n",
    "- Property 2: there is a tree of shortest paths from a start vertex to all the other vertices."
   ]
  },
  {
   "cell_type": "markdown",
   "metadata": {},
   "source": [
    "## Dijkstra's Algorithm\n",
    "- The distance of a vertex v from a vertex s is the length of a shortest path between s and v.\n",
    "- Dijkstra's algorithm computes the distances of all the vertices from a given start vertex s.\n",
    "- Assumptions:\n",
    "    - the graph is connected.\n",
    "    - the edge weights are nonnegative.\n",
    "- Note: the graph may be directed or undirected.\n",
    "- We grow a \"cloud\" of vertices, beginning with s and eventually covering all the vertices.\n",
    "- At each vertex v we store d(v) = best distance of v from s *in the subgraph* consisting of the cloud and its adjacent vertices.\n",
    "- At each step:\n",
    "    - We add to the cloud the vertex u outside the cloud with the smallest distance label.\n",
    "    - We update the labels of the vertices adjacent to u.\n",
    "\n",
    "![Dijkstra Algorithm \"Cloud\"](./Resources/DijkstraCloud.png)"
   ]
  }
 ],
 "metadata": {
  "kernelspec": {
   "display_name": "Java (Rapaio Jupyter)",
   "language": "java",
   "name": "rapaio-jupyter-kernel"
  },
  "language_info": {
   "name": "java"
  }
 },
 "nbformat": 4,
 "nbformat_minor": 2
}
