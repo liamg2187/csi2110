{
 "cells": [
  {
   "cell_type": "markdown",
   "metadata": {},
   "source": [
    "# Sorting\n",
    "## Merge-Sort\n",
    "### Merge-Sort Tree\n",
    "- An execution of merge-sort is depicted by a binary tree.\n",
    "- Each node represents a recursive call of merge-sort and stores\n",
    "    - unsorted sequence before the execution and its partition\n",
    "    - sorted sequence at the end of the execution\n",
    "- The root is the initial call.\n",
    "- The children are calls on subsequences.\n",
    "- The leaves are calls on sequences of size 0 or 1.\n",
    "\n",
    "![Merge-Sort Tree Example](./Resources/MergeTreeExample.png)"
   ]
  },
  {
   "cell_type": "markdown",
   "metadata": {},
   "source": [
    "### Analysis of Merge-Sort\n",
    "- The height h of the merge-sort tree is O(logn)\n",
    "    - At each recursive call we divide in half the sequence.\n",
    "- The overall amount or work done at the nodes of depth i is O(n).\n",
    "    - We partition and merge 2<sup>i</sup> sequences of size n/2<sup>i</sup>\n",
    "    - We make 2<sup>i + 1</sup> recursive calls.\n",
    "- Thus, the total running time of merge-sort is O(nlogn)"
   ]
  },
  {
   "cell_type": "markdown",
   "metadata": {},
   "source": [
    "## Quick-Sort\n",
    "- Quick-sort is a sorting algorithm based on the divide-and-conquer paradigm:\n",
    "    - Divide: pick an element x (called *pivot*) and partition S into\n",
    "        - L elements less than x\n",
    "        - E elements equal x\n",
    "        - G elements greater than x\n",
    "    - Recur: sort L and G\n",
    "    - Conquer: join L, E, and G"
   ]
  },
  {
   "cell_type": "raw",
   "metadata": {
    "vscode": {
     "languageId": "raw"
    }
   },
   "source": [
    "Algorithm quickSort(S)\n",
    "    i <- PIVOT\n",
    "    x <- S.elemAtRank(i)\n",
    "    (L, E, G) <- Partition(S, x)\n",
    "    quickSort(L)\n",
    "    quickSort(G)\n",
    "    combine L, E, G"
   ]
  },
  {
   "cell_type": "markdown",
   "metadata": {},
   "source": [
    "### Partition\n",
    "- We partition an input sequence as follows:\n",
    "    - We remove, in turn, each element y from S and\n",
    "    - We insert y into L, E, or G, depending on the result of the comparison with the pivot x.\n",
    "- Each insertion and removal is at the beginning or at the end of a sequence and hence takes O(1) time.\n",
    "- Thus, the partition step of quick-sort takes O(n) time."
   ]
  },
  {
   "cell_type": "raw",
   "metadata": {
    "vscode": {
     "languageId": "raw"
    }
   },
   "source": [
    "Algorithm partition(S, p)\n",
    "    Input sequence S, position p of pivot\n",
    "    Output subsequences L, E, G of the elements of S less than,\n",
    "        equal to, or greater than the pivot.\n",
    "    \n",
    "    L, E, G <- empty sequences\n",
    "    x <- S.get(p)\n",
    "\n",
    "    while !S.isEmpty()\n",
    "        y <- S.remove(S.first())\n",
    "        if y < x\n",
    "            L.insertLast(y)\n",
    "        else if y == x\n",
    "            E.insertLast(y)\n",
    "        else    // y > x\n",
    "            G.insertLast(y)\n",
    "    \n",
    "    return L, E, G"
   ]
  },
  {
   "cell_type": "markdown",
   "metadata": {},
   "source": [
    "### Quick-Sort Tree\n",
    "- An execution of quick-sort is depicted by a binary tree.\n",
    "- Each node represents a recursive call of quick-sort and stores\n",
    "    - Unsorted sequence before the execution and its pivot.\n",
    "    - Sorted sequence at the end of the execution\n",
    "- The root is the initial call.\n",
    "- The leaves are calls on subsequences of size 0 or 1.\n",
    "\n",
    "![Quick-Sort Tree Example](./Resources/QuickSortTreeExample.png)"
   ]
  },
  {
   "cell_type": "markdown",
   "metadata": {},
   "source": [
    "### In-Place Quick-Sort\n",
    "- In the partition step, we use replace operations to rearrange the elements of the input sequence such that\n",
    "    - The elements less than the pivot have rank less than h.\n",
    "    - The elements equal to the pivot have rank between h and k.\n",
    "    -The elements greater than the pivot have rank greater than k.\n",
    "- The recursive calls consider\n",
    "    - elements with rank less than h.\n",
    "    - elements with rank greater than k"
   ]
  },
  {
   "cell_type": "markdown",
   "metadata": {},
   "source": [
    "- Divide step:\n",
    "    - l scans the sequence from the left, and r from the right.\n",
    "    - A swap is performed when l is at an element larger than the pivot and r is a one smaller than the pivot.\n",
    "    - A final swap with the pivot completes the divide step."
   ]
  },
  {
   "cell_type": "raw",
   "metadata": {
    "vscode": {
     "languageId": "raw"
    }
   },
   "source": [
    "Algorithm inPlaceQuickSort(S, l, r)\n",
    "    Input sequence S, ranks l and r\n",
    "    Output sequence S with the elements of rank between l and r\n",
    "        rearranged in increasing order.\n",
    "    \n",
    "    if l >= r\n",
    "        return\n",
    "    \n",
    "    i <- a random integer between l and r\n",
    "    x <- S.elemAtRank(i)\n",
    "    (h, k) <- inPlacePartition(x)\n",
    "    inPlaceQuickSort(S, 1, h - 1)\n",
    "    inPlaceQuickSort(S, k + 1, r)"
   ]
  },
  {
   "cell_type": "markdown",
   "metadata": {},
   "source": [
    "### In-Place Partition\n",
    "- Repeat until l and r cross:\n",
    "    - l traverse the array from left to right until it finds an element >= pivot.\n",
    "    - r traverse the array from right to left until it finds an element < pivot.\n",
    "    - Swap elements at indices l and r."
   ]
  },
  {
   "cell_type": "raw",
   "metadata": {
    "vscode": {
     "languageId": "raw"
    }
   },
   "source": [
    "Algorithm inPlacePartition(p, s, e)\n",
    "    Input: position p of the pivot; s and e are the sequence limits\n",
    "    Output: l and r such that:\n",
    "        r - 1 = index of the last element smaller than the pivot\n",
    "        l + 1 = index of the first element larger than the pivot\n",
    "    \n",
    "    l <- s, r <- e - 1\n",
    "\n",
    "    swap S[p] with S[e], p <- e\n",
    "    while l <= r\n",
    "        while S[l] < S[p] and r >= l\n",
    "            l <- l + 1\n",
    "        while S[r] >= S[p] and r >= l\n",
    "            r <- r - 1\n",
    "        if r > l swap S[r] with S[l]\n",
    "    swap S[l] with S[p]\n",
    "    return r + 1, l"
   ]
  }
 ],
 "metadata": {
  "kernelspec": {
   "display_name": "Java (Rapaio Jupyter)",
   "language": "java",
   "name": "rapaio-jupyter-kernel"
  },
  "language_info": {
   "name": "java"
  }
 },
 "nbformat": 4,
 "nbformat_minor": 2
}
