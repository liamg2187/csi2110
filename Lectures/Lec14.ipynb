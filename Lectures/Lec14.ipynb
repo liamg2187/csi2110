{
 "cells": [
  {
   "cell_type": "markdown",
   "metadata": {},
   "source": [
    "# Hash Tables\n",
    "- Hash tables are data structures that implement a MAP ADT.\n",
    "- Data is stored and retrieved by use of a function of the key.\n",
    "- It is stored, but not sorted.\n",
    "\n",
    "## Problem A: Address Generation\n",
    "- Construction of the function h(k).\n",
    "- Simple to calculate.\n",
    "- Uniformly distribute the elements in the table.\n",
    "\n",
    "## Problem B: Collision Resolution\n",
    "- What strategy to use if two keys map to the same location h(k).\n",
    "\n",
    "# Hash Functions and Hash Tables\n",
    "- A hash function h maps keys of a given type to integers in a fixed interval [0, N-1].\n",
    "- Ex: h(x) = x mod(n) is a hash function for integer keys.\n",
    "- A hash table for a given key type consists of\n",
    "    - Hash function h.\n",
    "    - Array (called table) of size N.\n",
    "- When implementing a map with a hash table, the goal is to store item (k, o) at index i = h(k).\n",
    "\n",
    "&#8704; key K<sub>i</sub>\n",
    "\n",
    "h(K<sub>i</sub>) = position of K in the table\n",
    "\n",
    "h(K<sub>i</sub>) = pos, pos: integer\n",
    "\n",
    "If we were lucky to have h(K<sub>i</sub>) != h(K<sub>g</sub>), i != g, then the search would be very efficient (O(1))."
   ]
  },
  {
   "cell_type": "markdown",
   "metadata": {},
   "source": [
    "**Definition**: Load factor of a Hash Table\n",
    "\n",
    "&#945; = n/N, where n = # of elements and N = #of cells.\n",
    "\n",
    "- The larger the load factor, the larger the chance of collisions."
   ]
  },
  {
   "cell_type": "markdown",
   "metadata": {},
   "source": [
    "## Address Generation\n",
    "- Split problem into 2 sub-problems:\n",
    "    - Hash code map: h<sub>1</sub> keys -> integers\n",
    "        - h(x) = h<sub>2</sub>(h<sub>1</sub>(x))\n",
    "    - Compression map: h<sub>2</sub>: integers -> [0, TableSize - 1]"
   ]
  },
  {
   "cell_type": "markdown",
   "metadata": {},
   "source": [
    "## Hash Code Maps\n",
    "- Hash codes reinterpret the key as an integer. They need to:\n",
    "    1. Give the same result for the same key.\n",
    "    2. Provide good \"spread\".\n",
    "\n",
    "- Examples:\n",
    "    - Memory address: we reinterpret the memory address of the key object as an integer (default hash code of all Java objects).\n",
    "    - Integer cast: we reinterpret the bits of the key as an integer.\n",
    "    - Component sum: we partition the bits of the key into components of fixed length and we sum the components.\n",
    "    - Polynomial accumulation:\n",
    "        - We partition the bits of the key into a sequence of components of fixed length a<sub>0</sub>a<sub>1</sub>...a<sub>n-1</sub>.\n",
    "        - We evaluate the polynomial p(z) = a<sub>0</sub> + a<sub>1</sub>z + a<sub>2</sub>z<sup>2</sup> + ... + a<sub>n-1</sub>z<sup>n-1</sup> at a fixed value z, ignoring overflows."
   ]
  },
  {
   "cell_type": "markdown",
   "metadata": {},
   "source": [
    "## Compression Maps\n",
    "- Take the output of the hash code and compress it into the desired range.\n",
    "- If the result of the hash code was the same, the result of the compression map should be the same.\n",
    "- Compression maps should maximize \"spread\" so as to minimize collisions.\n",
    "- Examples:\n",
    "    - Division: \n",
    "    - h<sub>2</sub>(y) = y mod(N)\n",
    "    - The size N of the hash table is usually chosen to be a prime number (number theory).\n",
    "    - Multiply, Add and Divide (MAD):\n",
    "        - h<sub>2</sub>(y) = (ay + b) mod(N)\n",
    "        - a and b are nonnegative integers such that a mod N != 0.\n",
    "        - Otherwise, every integer would map to the same value b."
   ]
  },
  {
   "cell_type": "markdown",
   "metadata": {},
   "source": [
    "## Collision Resolution\n",
    "- Separate chaining: if a collision occurs, use a list to store multiple keys in the same location.\n",
    "- "
   ]
  }
 ],
 "metadata": {
  "kernelspec": {
   "display_name": "Java (Rapaio Jupyter)",
   "language": "java",
   "name": "rapaio-jupyter-kernel"
  },
  "language_info": {
   "name": "java"
  }
 },
 "nbformat": 4,
 "nbformat_minor": 2
}
