{
 "cells": [
  {
   "cell_type": "markdown",
   "metadata": {},
   "source": [
    "# AVL Trees\n",
    "\n",
    "- **AVL trees are balanced.**\n",
    "- An AVL Tree is a *binary search tree* such that for every internal node v of T, the *heights of the trees rooted at the children of v can differ by at most 1*.\n",
    "\n",
    "## Balancing Factor\n",
    "- height(right subtree) - height(left subtree) &#8714;{-1, 0, 1} for AVL tree.\n",
    "\n",
    "![AVL Tree Balancing Visualization](./Resources/AVLBalancingVisual.png)\n",
    "\n",
    "## Height of an AVL Tree\n",
    "- *Note*: AVL tree with the highest possible number of internal nodes for a given height h: n = 2<sup>h</sub>, so h = log(n)\n",
    "- To construct the \"longest\" possible AVL tree, we look for the *minimum number of nodes* of an AVL tree of height h: n(h).\n",
    "- n(1) = 1, n(2) = 2\n",
    "- For n >= 3, an AVL tree of height h contains the root node, one AVL subtree of height h - 1 and the other AVL subtree of height h - 2.\n",
    "\n",
    "n(h) = 1 + n(h-1) + n(h-2)\n",
    "\n",
    "n(h-1) > n(h-2) so,\n",
    "\n",
    "n(h) > 1 + n(h-2) + n(h-2)\n",
    "\n",
    "n(h) > 1 + 2*n(h-2) > 2\\*n(h-2)\n",
    "\n",
    "Therefore, n(h) > 2*n(h-2) for any h\n",
    "\n",
    "-> n(h-2) > 2*n(h-4) -> n(h) > 4\\*n(h-4)\n",
    "\n",
    "-> n(h-4) > 2*n(h-6) -> n(h) > 8\\*n(h-6)\n",
    "\n",
    "...\n",
    "\n",
    "-> n(h) > 2<sup>i</sup>n(h-2i)\n",
    "\n",
    "Using n(1) = 1 and n(2) = 2, we find i to be ceil(h/2) - 1\n",
    "\n",
    "-> n(h) > 2<sup>ceil(h/2) - 1</sup>n(1)\n",
    "\n",
    "-> n(h) > 2<sup>h/2 - 1</sup>\n",
    "\n",
    "-> h < 2*log(n(h)) + 2 <= 2\\*logn + 2\n",
    "\n",
    "Therefore, h is O(logn)\n"
   ]
  },
  {
   "cell_type": "markdown",
   "metadata": {},
   "source": [
    "## Insertion\n",
    "- A binary search tree T is called *balanced* if for every node v, the height of v's children differ by at most one.\n",
    "- Inserting a node into an AVL tree involves performing an `expandExternal(w)` on T, which changes the heights of some of the nodes in T.\n",
    "- If an insertion causes T to become **unbalanced**, we have to rebalance.\n",
    "\n",
    "### Rebalancing\n",
    "- We are going to identify 3 nodes which form a grandparent-parent-child triplet and the 4 subtrees attached to them. We will rearrange these elements to create a new balanced tree.\n",
    "1. Trace the path back from the point of insertion to the first node whose *grandparent is unbalanced*. Label this node x, its parent y, and grandparent z.\n",
    "2. These nodes will have 4 subtrees connected to them. Label them T<sub>1</sub>, T<sub>2</sub>, T<sub>3</sub>, and T<sub>4</sub>, in the order of an inorder traversal.\n",
    "\n",
    "![AVL Rebalancing Step 2](./Resources/AVLRebalancingStep2.png)\n",
    "\n",
    "3. Rename x, y, z, to a, b, c according to their inorder traversal.\n",
    "4. Replace the tree rooted at z with the following tree:\n",
    "\n",
    "![AVL Rebalancing Step 4](./Resources/AVLRebalancingStep4.png)\n",
    "\n",
    "5. The rebalance is complete."
   ]
  },
  {
   "cell_type": "markdown",
   "metadata": {},
   "source": [
    "## Removal\n",
    "- We can easily see that performing a `removeAboveExternal(w)` can cause T to become unbalanced.\n",
    "- Let z be the *first unbalanced node* encountered while travelling up the tree from w. Also, let y be *the child of z with the larger height*, and let x be *the child of y with the larger height*.\n",
    "- We can perform operation `restructure(x)` to restore balance at the subtree rooted at z.\n",
    "- As this restructuring may upset the balance of another node higher in the tree, we must continue checking for balance until the root of T is reached.\n",
    "- *Note*: the choice of x is not unique. There are multiple choices for x that could rebalance the tree."
   ]
  },
  {
   "cell_type": "markdown",
   "metadata": {},
   "source": [
    "## Complexity\n",
    "- Searching: `findElement(k)`: O(logn)\n",
    "- Inserting: `insertItem(k, o)`: O(logn)\n",
    "- Removing: `removeElement(k)`: O(logn)\n",
    "\n",
    "- The trinode restructure is accomplished using the rotation operation.\n",
    "\n",
    "![Examples of Binary Tree Rotations](./Resources/BinaryTreeRotationExamples.png)"
   ]
  },
  {
   "cell_type": "markdown",
   "metadata": {},
   "source": [
    "`rotate` and `restructure` methods can be found in [TreeMap.class](../textBookSourceCodeDir/net/datastructures/TreeMap$BalanceableBinaryTree.class) file."
   ]
  }
 ],
 "metadata": {
  "kernelspec": {
   "display_name": "Java (Rapaio Jupyter)",
   "language": "java",
   "name": "rapaio-jupyter-kernel"
  },
  "language_info": {
   "name": "java"
  }
 },
 "nbformat": 4,
 "nbformat_minor": 2
}
