{
 "cells": [
  {
   "cell_type": "markdown",
   "metadata": {},
   "source": [
    "# Shortest Path\n",
    "## Djikstra's Algorithm\n",
    "### Update = Edge Relaxation\n",
    "- Consider an edge e = (u, z) such that\n",
    "    - u is the vertex most recently added to the cloud.\n",
    "    - z is not in the cloud.\n",
    "- The relaxation of edge e updates distance d(z) as follows\n",
    "    - d(z) <- min(d(z), d(u) + weight(e))\n",
    "\n",
    "![Updating Distance](./Resources/DjikstraDistanceUpdate.png)"
   ]
  },
  {
   "cell_type": "markdown",
   "metadata": {},
   "source": [
    "- We use a priority queue Q to store the vertices not in the cloud, where D[v] is the key of a vertex v in Q."
   ]
  },
  {
   "cell_type": "raw",
   "metadata": {
    "vscode": {
     "languageId": "raw"
    }
   },
   "source": [
    "Algorithm ShortestPath(G, v):\n",
    "    Input: A weighted graph G and a distinguished vertex v of G.\n",
    "    Output: A label D[u], for each vertex that u of G, such that\n",
    "    D[u] is the length of a shortest path from v to u in G.\n",
    "\n",
    "    D[v] <- 0 and D[u] <- infinity for each vertex v != u\n",
    "    \n",
    "    Let Q be a priority queue that contains all of the vertices\n",
    "    of G using the D labels as keys.\n",
    "\n",
    "    while Q != null do  //pull u into the cloud C\n",
    "        u <- Q.removeMinElement()\n",
    "        for each vertex z adjacent to u s.t. z is in Q do\n",
    "            //perform the relaxation operation on edge (u, z)\n",
    "            if D[u] + w(u, z) < D[z] then\n",
    "                D[z] <- D[u] + w(u, z)\n",
    "                change the key value of z in Q to D[z]\n",
    "    return the label D[u] of each vertex u"
   ]
  },
  {
   "cell_type": "markdown",
   "metadata": {},
   "source": [
    "### Running Time\n",
    "- If we represent G with an adjacency list, we can step through all the vertices adjacent to u in time proportional to deg(u).\n",
    "- **The priority queue Q**\n",
    "    - A heap\n",
    "    - `while Q != null` - at each iteration:\n",
    "        - Extraction of element with the smallest distance label: **O(logn)**\n",
    "        - Key updates: **O(logn)** for reach update (replace and insert keys). \n",
    "    - So, after each extraction: **O(deg(u)*logn)**\n",
    "    - In total: &#8721;<sub>u&#8714;G</sub> (1 + deg(u))\\*logn = O((n + m)\\*logn) = O(mlogn)\n",
    "    - Worst case: O(n<sup>2</sup>logn)\n",
    "- **An unsorted sequence**\n",
    "    - O(n) when we extract minimum elements, but fast key updates (O(1)).\n",
    "    - There are only n - 1 extractions and m updates.\n",
    "    - The running time is O(n<sup>2</sup> + m) = O(n<sup>2</sup>)"
   ]
  },
  {
   "cell_type": "markdown",
   "metadata": {},
   "source": [
    "# Minimum Spanning Tree\n",
    "- Spanning subgraph\n",
    "    - Subgraph of a graph G containing all the vertices of G.\n",
    "- Spanning tree\n",
    "    - Spanning subgraph that is itself a (free) tree.\n",
    "- Minimum spanning tree (MST)\n",
    "    - Spanning tree of a weighted graph with minimum total edge weight.\n",
    "\n",
    "## Cycle Property\n",
    "- Let T be a minimum spanning tree of a weighted graph G.\n",
    "- Let e be an edge of G that is not in T and let C be the cycle formed by adding e to T.\n",
    "- For every edge f of C, weight(f) <= weight(e)\n",
    "- *Proof*:\n",
    "    - If weight(f) > weight(e), we can get a spanning tree of smaller weight by replacing e with f.\n",
    "- In other words:\n",
    "    - Take a MST\n",
    "    - In any cycle of the graph, the non-spanning tree edge has max weight."
   ]
  },
  {
   "cell_type": "markdown",
   "metadata": {},
   "source": [
    "## Partition Property\n",
    "- Consider a partition of the vertices of G into subsets U and V. Let e be an edge of minimum weight across the partition. There is a minimum spanning tree of G containing edge e.\n",
    "- *Proof*:\n",
    "    - Let T be an MST of G\n",
    "    - If T does not contain e, consider the cycle C formed by e with T and let f be an edge of C across the partition\n",
    "    - By the cycle property, weight(f) <= weight(e)\n",
    "    - This, weight(f) = weight(e)\n",
    "    - We obtain another MST by replacing f with e\n",
    "\n",
    "![Partition Property Example](./Resources/MSTPartitionProperty.png)"
   ]
  }
 ],
 "metadata": {
  "kernelspec": {
   "display_name": "Java (Rapaio Jupyter)",
   "language": "java",
   "name": "rapaio-jupyter-kernel"
  },
  "language_info": {
   "name": "java"
  }
 },
 "nbformat": 4,
 "nbformat_minor": 2
}
