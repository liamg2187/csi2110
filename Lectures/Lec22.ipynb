{
 "cells": [
  {
   "cell_type": "markdown",
   "metadata": {},
   "source": [
    "# Sorting\n",
    "## Quick-Sort"
   ]
  },
  {
   "cell_type": "code",
   "execution_count": 1,
   "metadata": {},
   "outputs": [],
   "source": [
    "private static <K> void quickSortInPlace(K[] S, Comparator<K> comp, int a, int b) {\n",
    "\n",
    "    if (a >= b) return; // subarray is trivially sorted\n",
    "    int left = a;\n",
    "    int right = b - 1;\n",
    "    K pivot = S[b];\n",
    "    K temp; // temp object used for swapping\n",
    "\n",
    "    while(left <= right) {\n",
    "        // scan until reaching value equal or larger than pivot (or right marker)\n",
    "        while(left <= right && comp.compare(S[left], pivot) < 0) left++;\n",
    "        // scan until reaching value equal or smaller than pivot (or left marker)\n",
    "        while(left <= right && comp.compare(S[right], pivot) > 0) right--;\n",
    "\n",
    "        if (left <= right) {    // indices did not strictly cross\n",
    "            // so swap values and shrink range\n",
    "            temp = S[left];\n",
    "            S[left] = S[right];\n",
    "            S[right] = temp;\n",
    "            left++;\n",
    "            right--;\n",
    "        }\n",
    "    }\n",
    "    //put pivot into its final place (currently marked by left index)\n",
    "    temp = S[left];\n",
    "    S[left] = S[b];\n",
    "    S[b] = temp;\n",
    "    // make recursive calls\n",
    "    quickSortInPlace(S, comp, a, left - 1);\n",
    "    quickSortInPlace(S, comp, left + 1, b);\n",
    "}"
   ]
  },
  {
   "cell_type": "markdown",
   "metadata": {},
   "source": [
    "### Worst-case Running Time\n",
    "- The worst case for quick-sort occurs when the pivot is the unique minimum or maximum element.\n",
    "- One of L and G has size n - 1 and the other has size 0.\n",
    "- The running time is proportional to the sum n + (n - 1) + ... + 2 + 1\n",
    "- Thus, the worst-case running time of quick-sort is O(n<sup>2</sup>).\n",
    "\n",
    "### Expected Running Time\n",
    "- Consider a recursive call of quick-sort ona sequence of size s.\n",
    "    - **Good call**: the sizes of L and G are each less than 3s/4\n",
    "    - **Bad call**: one of L and G has size greater than 3s/4\n",
    "- A call is good with probability 1/2 (for an element, the expected number of calls until a good call is 2).\n",
    "- Hence, for a node of depth i, we expect that:\n",
    "    - i/2 ancestor nodes are associated with good calls.\n",
    "    - The expected size of the input sequence for the current call is at most (3/4)<sup>i/2</sup>n.\n",
    "- Thus, we have:\n",
    "    - For a node of depth 2log<sub>4/3</sub>n, the expected size of the input sequence is one ((3/4)<sup>2log<sub>4/3</sub>n</sup>n = 1)\n",
    "    - The expected height of the quick-sort tree is O(logn)\n",
    "    - The overall amount or work done at the nodes of the same depth of the quick-sort tree is O(n).\n",
    "    - Thus, the expected running time of quick-sort is O(nlogn)."
   ]
  },
  {
   "cell_type": "markdown",
   "metadata": {},
   "source": [
    "| Algorithm | Time | Notes |\n",
    "| ----- | ----- | ----- |\n",
    "| Selection-Sort | O(n<sup>2</sup>) w.c. and av. | In-place; slow (good for small inputs) |\n",
    "| Insertion-Sort | O(n<sup>2</sup>) w.c. and av. | In-place; slow (good for small inputs) |\n",
    "| Quick-Sort | O(n<sup>2</sup>) w.c.; O(nlogn) av. | In-place, randomized; fastest (good for large inputs) |\n",
    "| Heap-Sort | O(nlogn) w.c. and av. | In-place; fast (good for large inputs) |\n",
    "| Merge-Sort | O(nlogn) w.c. and av. | Sequential data access; fast (good for huge inputs) |"
   ]
  }
 ],
 "metadata": {
  "kernelspec": {
   "display_name": "Java (Rapaio Jupyter)",
   "language": "java",
   "name": "rapaio-jupyter-kernel"
  },
  "language_info": {
   "codemirror_mode": "java",
   "file_extension": ".jshell",
   "mimetype": "text/x-java-source",
   "name": "java",
   "nbconvert_exporter": "script",
   "pygments_lexer": "java",
   "version": "21.0.2+13-LTS-58"
  }
 },
 "nbformat": 4,
 "nbformat_minor": 2
}
