{
 "cells": [
  {
   "cell_type": "markdown",
   "metadata": {},
   "source": [
    "# Linear Time Sorting\n",
    "\n",
    "**Stable Sorting Algorithm**: A sorting algorithm that preserves the order of items with identical key\n",
    "\n",
    "## Bucket-Sort\n",
    "- Let S be a sequence of n (key, value) items with keys in the range [0, N - 1].\n",
    "- Bucket-sort uses the keys as indices into an auxiliary array B of sequences (buckets).\n",
    "    - Phase 1: Empty sequence S by moving each item (k, o) into its bucket B[k].\n",
    "    - Phase 2: For i = 0, ..., N - 1, move the items of bucket B[i] to the end of sequence S.\n",
    "- Analysis:\n",
    "    - Phase 1 takes O(n) time.\n",
    "    - Phase 2 takes O(n + N) time.\n",
    "    - Bucket-sort takes O(n + N) time."
   ]
  },
  {
   "cell_type": "raw",
   "metadata": {
    "vscode": {
     "languageId": "raw"
    }
   },
   "source": [
    "Algorithm bucketSort(S, N)\n",
    "    Input sequence S of (key, element) items with keys in the\n",
    "        range [0, N - 1]\n",
    "    Output sequence S sorted by increasing keys\n",
    "\n",
    "    B <- array of N empty sequences\n",
    "    while !S.isEmpty()\n",
    "        f <- S.first()\n",
    "        (k, o) <- S.remove(f)\n",
    "        B[k].insertLast((k, o))\n",
    "    \n",
    "    for i <- 0 to N - 1\n",
    "        while !B[i].isEmpty()\n",
    "            f <- B[i].first()\n",
    "            (k, o) <- B[i].remove(f)\n",
    "            S.insertLast((k, o))"
   ]
  },
  {
   "cell_type": "markdown",
   "metadata": {},
   "source": [
    "### Properties\n",
    "- Key-type Property:\n",
    "    - The keys are used as indices into an array and cannot be arbitrary objects.\n",
    "    - No external comparator.\n",
    "\n",
    "- Stable Sort Property:\n",
    "    - The relative order of any two items with the same key is preserved after the execution of the algorithm.\n",
    "\n",
    "### Extensions\n",
    "- Integer keys in the range [a, b]:\n",
    "    - Put item (k, o) into bucket B[k - a].\n",
    "    - String keys from a set D of possible strings, where D has constant size\n",
    "        - Sort D and compute the rank r(k) of each string k of D in the sorted sequence.\n",
    "        - Put item (k, o) into bucket B[r(k)]"
   ]
  },
  {
   "cell_type": "markdown",
   "metadata": {},
   "source": [
    "## Lexicographic Order\n",
    "- A d-tuple is a sequence of d keys (k<sub>1</sub>, k<sub>2</sub>, ..., k<sub>d</sub>), where key k<sub>i</sub> is said to be the i-th dimension of the tuple.\n",
    "- The lexicographic order of two d-tuples is recursively defined as follows:\n",
    "\n",
    "(x<sub>1</sub>, x<sub>2</sub>, ..., x<sub>d</sub>) < (y<sub>1</sub>, y<sub>2</sub>, ..., y<sub>d</sub>) iff x<sub>1</sub> < y<sub>1</sub> &#8744; x<sub>1</sub> = y<sub>1</sub> &#8743; (x<sub>2</sub>, ..., x<sub>d</sub>) < (y<sub>2</sub>, ..., y<sub>d</sub>)\n",
    "\n",
    "i.e., the tuples are compared by the first dimensions, then by the second dimension, etc."
   ]
  },
  {
   "cell_type": "markdown",
   "metadata": {},
   "source": [
    "## Lexicographic-Sort\n",
    "- Let C<sub>i</sub> be the comparator that compares two tuples by their i-th dimension, i.e. for C<sub>2,\n",
    "    - (x<sub>2</sub>, x<sub>2</sub>, x<sub>3</sub>) <= (y<sub>2</sub>, y<sub>2</sub>, y<sub>3</sub>) if x<sub>2</sub> <= y<sub>2</sub>\n",
    "- Let `stableSort(S, C)` be any stable sorting algorithm that uses comparator C.\n",
    "- Lexicographic-sort sorts a sequence of d-tuples in lexicographic order by executing d times algorithm `stableSort`, one per dimension."
   ]
  },
  {
   "cell_type": "raw",
   "metadata": {
    "vscode": {
     "languageId": "raw"
    }
   },
   "source": [
    "Algorithm lexicographcSort(S)\n",
    "    Input sequence S of d-tuples\n",
    "    Output sequence S sorted in lexicographic order.\n",
    "\n",
    "    for i <- d downto 1\n",
    "        stableSort(S, Ci)"
   ]
  },
  {
   "cell_type": "markdown",
   "metadata": {},
   "source": [
    "- Lexicographic-sort runs in O(d*T(n)) time, where T(n) is the running time of stableSort."
   ]
  },
  {
   "cell_type": "markdown",
   "metadata": {},
   "source": [
    "## Radix-Sort Variation 1\n",
    "- Uses bucket-sort as the stable sorting algorithm.\n",
    "- Applicable to tuples where the keys in each dimension i are integers in the range [0, N - 1].\n",
    "- Runs in O(d(n + N))"
   ]
  },
  {
   "cell_type": "raw",
   "metadata": {
    "vscode": {
     "languageId": "raw"
    }
   },
   "source": [
    "Algorithm radishSort(S, N)\n",
    "    Input sequence S of d-tuples such that\n",
    "        (0, ..., 0) <= (x1, ..., xd) and\n",
    "        (x1, ..., xd) <= (N - 1, ..., N - 1) for each tuple\n",
    "        (x1, ..., xd) in S\n",
    "    Output sequence S sorted in lexicographic order\n",
    "\n",
    "    for i <- d downto 1\n",
    "        bucketSort(S, N, i)"
   ]
  },
  {
   "cell_type": "markdown",
   "metadata": {},
   "source": [
    "## Radix-Sort Variation 2\n",
    "- Consider a sequence of n b-bit integers x = x<sub>b - 1</sub>...x<sub>1</sub>x<sub>0</sub>.\n",
    "- We represent each element as a b-tuple of integers in the range [0, 1] and apply radix-sort with N = 2.\n",
    "- Runs in O(bn) time.\n",
    "- Sorts Java ints (32-bits) in linear time."
   ]
  },
  {
   "cell_type": "raw",
   "metadata": {
    "vscode": {
     "languageId": "raw"
    }
   },
   "source": [
    "Algorithm radicchioSort(S)\n",
    "    Input sequence S of b-bit integers\n",
    "    Output sequence S sorted replace each element x of s with\n",
    "        the item (0, x)\n",
    "\n",
    "    for i <- 0 to b - 1\n",
    "        use as the key k of each item (k, x) of S the bit xi of x\n",
    "        bucketSort(S, 2, i)"
   ]
  },
  {
   "cell_type": "markdown",
   "metadata": {},
   "source": [
    "### Extensions\n",
    "- Radix-sort variation 3\n",
    "    - The keys are integers in the range [0, N<sup>2</sup> - 1]\n",
    "    - We represent a key as a 2-tuple of digits in the range [0, N - 1] and apply radish-sort i.e. write it in base N notation.\n",
    "    - The running time is O(n + N)\n",
    "    - Can be extended to integer keys in the range [0, n<sup>d</sup> - 1].\n",
    "- Radix-sort string variation\n",
    "    - The keys are strings of d characters each.\n",
    "    - We represent each key by a d-tuple of integers, where is the ASCII (8-bit integer) or Unicode (16-bit integer) representation of the i-th character and apply radix-sort variation 1."
   ]
  }
 ],
 "metadata": {
  "kernelspec": {
   "display_name": "Java (Rapaio Jupyter)",
   "language": "java",
   "name": "rapaio-jupyter-kernel"
  },
  "language_info": {
   "name": "java"
  }
 },
 "nbformat": 4,
 "nbformat_minor": 2
}
