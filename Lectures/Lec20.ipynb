{
 "cells": [
  {
   "cell_type": "markdown",
   "metadata": {},
   "source": [
    "# Minimum Spanning Tree\n",
    "## Prim-Jarnik's Algorithm\n",
    "- Prim-Jarnik's algorithm for computing an MST is similar to Dijkstra's algorithm.\n",
    "- We assume that the graph is connected.\n",
    "- We pick an arbitrary vertex s and we grow the MST as a cloud of vertices, starting from s.\n",
    "- We store with each vertex v a label d(v) representing the smallest weight of an edge connecting v to any vertex in the cloud (as opposed to the total sum of edge weights on a path from the start vertex to u).\n",
    "- At each step\n",
    "    - We add to the cloud the vertex u outside the cloud with the smallest distance label.\n",
    "    - We update the labels of the vertices adjacent to u.\n",
    "\n",
    "- Use a priority queue Q whose keys are D labels, and whose elements are vertex-edge pairs.\n",
    "    - Key: distance\n",
    "    - Element: vertex\n",
    "- Any vertex v can be the starting vertex.\n",
    "- We can still initialize all the D[u] values to INFINITE, but we also initialize E[u] (the edge associated with u) to null.\n",
    "- Return the minimum spanning tree T."
   ]
  },
  {
   "cell_type": "raw",
   "metadata": {
    "vscode": {
     "languageId": "raw"
    }
   },
   "source": [
    "Algorithm PrimJarnik(G):\n",
    "    Input: A weighted graph G\n",
    "    Output: A minimum spanning tree T for G\n",
    "\n",
    "    pick any vertex v of G\n",
    "    //grow the tree starting with vertex v\n",
    "    T <- v\n",
    "    D[u] <- 0\n",
    "    E[u] <- null\n",
    "    for each vertex u != v, do\n",
    "        D[u] <- INFINITY\n",
    "    \n",
    "    let Q be a PQ that contains vertices, using the D labels as keys\n",
    "    while Q != null do  //pull u into the cloud C\n",
    "        u <- Q.removeMinElement()\n",
    "        add vertex u and edge E[u] to T\n",
    "        \n",
    "        for each vertex z adjacent to u do\n",
    "            if z is in Q\n",
    "                //perform the relaxation operation on edge (u, z)\n",
    "                if weight(u, z) < D[z] then\n",
    "                    D[z] <- weight(u, z)\n",
    "                    E[z] <- (u, z)\n",
    "                    change the key of z in Q to D[z]\n",
    "    return tree T"
   ]
  },
  {
   "cell_type": "markdown",
   "metadata": {},
   "source": [
    "![Example of Prim-Jarnik's Algorithm](./Resources/PrimJarnikExample.png)"
   ]
  },
  {
   "cell_type": "markdown",
   "metadata": {},
   "source": [
    "- This is an application of the cycle property.\n",
    "- Let the minimum edge at some iteration be (u, v).\n",
    "    - If there is an MST not containing (u, v), then (u, v) completes a cycle.\n",
    "    - Since (u, v) was considered before some other edge connecting v to the cluster, it must have weight equal to or lower than that other edge.\n",
    "    - A new MST can be formed by swapping.\n",
    "\n",
    "### Analysis\n",
    "- Graph operations\n",
    "    - Method incidentEdges is called once for each vertex.\n",
    "- Label operations\n",
    "    - We set/get the labels of vertex z O(deg(z)) times.\n",
    "    - Setting/getting a label takes O(1) time.\n",
    "- Priority queue operations\n",
    "    - Each vertex is inserted once into and removed once from the priority queue, where each insertion or removal takes O(logn) time.\n",
    "    - The key of a vertex w in the priority queue is modified at most deg(w) times, where each key change takes O(logn) time.\n",
    "- Prim-Jarnik's algorithm runs in O((n + m)logn) time provided the graph is represented by the adjacency list structure.\n",
    "- The running time is O(mlogn) since the graph is connected."
   ]
  },
  {
   "cell_type": "markdown",
   "metadata": {},
   "source": [
    "## Dijkstra vs. Prim-Jarnik\n",
    "\n",
    "![Comparison of Dijkstra's Algorithm and Prim_Jarnik's Algorithm](./Resources/DijkstraVSPrimJarnik.png)"
   ]
  },
  {
   "cell_type": "markdown",
   "metadata": {},
   "source": [
    "## Kruskal's Algorithm\n",
    "- Each vertex is initially stores as its own cluster.\n",
    "- At each iteration, the minimum weight edge is added to the spanning tree if it joins 2 distinct clusters.\n",
    "- The algorithm ends when all the vertices are in the same cluster.\n",
    "- This is an application of the partition property.\n",
    "    - If the minimum edge at some iteration is (u, v), then if we consider a partition of G with u in one cluster and v in the other, then the partition property says that there must be an MST containing (u, v).\n",
    "- A priority queue stores the edges outside the cloud\n",
    "    - Key: weight\n",
    "    - Element: edge\n",
    "- At the end of the algorithm\n",
    "    - We are left with one cloud that encompasses the MST.\n",
    "    - A tree T which is our MST.\n",
    "    - It also works for finding a minimum spanning forest."
   ]
  },
  {
   "cell_type": "raw",
   "metadata": {
    "vscode": {
     "languageId": "raw"
    }
   },
   "source": [
    "Algorithm KruskalMST(G)\n",
    "    \n",
    "    for each vertex V in G do\n",
    "        define a Cloud(v) of <- v\n",
    "    \n",
    "    let Q be a PQ\n",
    "    Insert all edges into Q using their weights as the keys\n",
    "    T <- null\n",
    "    while (T has < n - 1 edges) and (!Q.isEmpty()) do\n",
    "        edge e = Q.removeMin()\n",
    "\n",
    "        Let u, v be the endpoints of e\n",
    "        if Cloud(v) != Cloud(u) then\n",
    "            Add edge e to T\n",
    "            Merge Cloud(v) and Cloud(u)\n",
    "    \n",
    "    return T"
   ]
  },
  {
   "cell_type": "markdown",
   "metadata": {},
   "source": [
    "### Data Structure for Kruskal Algorithm\n",
    "- The algorithm maintains a forest of trees.\n",
    "- An edge is accepted if it connects distinct trees.\n",
    "- We need a data structure that maintains a partition, i.e., a collection of disjoint sets, with the operations:\n",
    "    - `find(u)`: return the set storing u.\n",
    "    - `union(u, v)`: replace the sets storing u and v with their union.\n",
    "\n",
    "### Representation of a Partition\n",
    "- Each set is stored in a sequence.\n",
    "- Each element has a reference back to the set.\n",
    "    - Operation `find(u)` takes O(1) time, and returns the set of which u is a member.\n",
    "    - In operation `union(u, v)`, we move the elements of the smaller set to the sequence of the larger set and update their references.\n",
    "    - The time for operation `union(u, v)` is min(n<sub>u</sub>, n<sub>v</sub>), where n<sub>u</sub> and n<sub>v</sub> are the sizes of the sets storing u and v.\n",
    "- Whenever an element is processed, it goes into a set of size at least double, hence each element is processed at most logn times."
   ]
  },
  {
   "cell_type": "markdown",
   "metadata": {},
   "source": [
    "### Partition-Based Implementation\n",
    "- A partition-based version of Kruskal's Algorithm performs cloud merges as unions and tests as finds."
   ]
  },
  {
   "cell_type": "raw",
   "metadata": {
    "vscode": {
     "languageId": "raw"
    }
   },
   "source": [
    "Algorithm Kruskal(G):\n",
    "    Input: A weighted graph G\n",
    "    Output: A set of edges T of a MST for G, if G is connected;\n",
    "            A set of edges T of a MS Forest T for G, if G is not connected;\n",
    "\n",
    "    Let P be a partition of the vertices of G, where each vertex forms a serparate set.\n",
    "    Let Q be a priority queue storing the edges of G, organized by their weights\n",
    "    Let T be an initially-empty set of edges\n",
    "\n",
    "    while (!Q.isEmpty()) and (T.size() < n - 1) do\n",
    "        (u, v) <- Q.removeMinElement()\n",
    "        if P.find(u) != P.find(v) then\n",
    "            Add (u, v) to T\n",
    "            P.union(u, v)\n",
    "    \n",
    "    return T"
   ]
  },
  {
   "cell_type": "markdown",
   "metadata": {},
   "source": [
    "### Running Time\n",
    "- Building a priority queue Q with m elemets taked O(mlogm) or O(m) using buildheap.\n",
    "- Operation Q.removeMinElement() takes time O(logm) and is repeated up to m times for a total of O(mlogm).\n",
    "- Operation P.find(x) takes O(1) and is repeated at most 2m times.\n",
    "- Operation P.union(u, v) takes time proportional to the smallest of the two parts and is repeated at most n - 1 times. As dicussed before, each of the n elements gets moved to another list at most logn times over all unions. So the total cost for all operations P.union(u, v) is O(nlogn).\n",
    "- In summary, we get O(nlogn + mlogm). Since m is O(n<sup>2</sup>), O(logm) is O(2logn) = O(logn). So, the running time can be written as O((m + n) logn)."
   ]
  },
  {
   "cell_type": "markdown",
   "metadata": {},
   "source": [
    "![Example of Kruskal's Algorithm (part 1)](./Resources/KruskalExamplePt1.png)\n",
    "![Example of Kruskal's Algorithm (part 2)](./Resources/KruskalExamplePt2.png)"
   ]
  },
  {
   "cell_type": "markdown",
   "metadata": {},
   "source": [
    "# Sorting\n",
    "## Recursive Sorts\n",
    "- Recursive sorts divide the data roughly in half and are called again on the smaller data sets. This is called the divide-and-conquer paradigm.\n",
    "\n",
    "## Divide-and-Conquer\n",
    "- *Divide*: divide one large problem into 2 smaller problems of the same type.\n",
    "- *Recur*: solve the 2 subproblems.\n",
    "- *Conquer*: Combine the 2 solutions into a solution to the larger problem.\n",
    "- The base case for the recursion are subproblems of manageable size, usually 0 or 1."
   ]
  },
  {
   "cell_type": "markdown",
   "metadata": {},
   "source": [
    "## Merge-Sort\n",
    "- Merge-sort on an input sequence S with n elements consists of 3 steps:\n",
    "    - *Divide*: partition into 2 groups of about n/2 each.\n",
    "    - *Recur*: recursively sort S<sub>1</sub> and S<sub>2</sub>.\n",
    "    - *Conquer*: Merge S<sub>1</sub> and S<sub>2</sub> into a unique sorted sequence.\n",
    "\n",
    "### Merging Two Sorted Sequences\n",
    "- The conquer step merges the 2 sorted sequences A and B into one sorted sequence S.\n",
    "- **How**: Compare the lowest element of each of A and B and insert whichever is smaller.\n",
    "- Merging two sorted sequences, each with n/2 elements and implemented by means of a doubly linked list takes O(n) time."
   ]
  },
  {
   "cell_type": "raw",
   "metadata": {
    "vscode": {
     "languageId": "raw"
    }
   },
   "source": [
    "Algorithm merge(A, B)\n",
    "    Input: sorted sequences of A and B\n",
    "    Output: sorted sequence of union of A and B\n",
    "\n",
    "    S <- empty sequence\n",
    "    while !A.isEmpty() and !B.isEmpty\n",
    "        if A.first().element() < B.first().element()\n",
    "            S.insertLast(A.remove(A.first())\n",
    "        else\n",
    "            S.insertLast(B.remove(B.first())\n",
    "    \n",
    "    while !A.isEmpty()\n",
    "        S.insertLast(A.remove(A.first())\n",
    "    \n",
    "    while !B.isEmpty()\n",
    "        S.insertLast(B.remove(B.first())\n",
    "    \n",
    "    return S"
   ]
  },
  {
   "cell_type": "raw",
   "metadata": {
    "vscode": {
     "languageId": "raw"
    }
   },
   "source": [
    "Algorithm mergeSort(S)\n",
    "    Input: sequence S with n elements\n",
    "    Output: sequence S sorted\n",
    "\n",
    "    if S.size() > 1\n",
    "        (S1, S2) <- partition(S, n/2)\n",
    "        mergeSort(S1)\n",
    "        mergeSort(S2)\n",
    "        S <- merge(S1, S2)"
   ]
  }
 ],
 "metadata": {
  "kernelspec": {
   "display_name": "Java (Rapaio Jupyter)",
   "language": "java",
   "name": "rapaio-jupyter-kernel"
  },
  "language_info": {
   "name": "java"
  }
 },
 "nbformat": 4,
 "nbformat_minor": 2
}
